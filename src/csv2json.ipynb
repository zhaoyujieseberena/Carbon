{
 "cells": [
  {
   "cell_type": "code",
   "execution_count": 7,
   "metadata": {},
   "outputs": [],
   "source": [
    "# %%\n",
    "import csv\n",
    "import json\n",
    "\n",
    "csv_file = '../res/metrics.csv'  # 替换为您的CSV文件路径\n",
    "json_file = '../res/metrics.json'  # 替换为您想要生成的JSON文件路径\n",
    "\n",
    "data = []\n",
    "\n",
    "with open(csv_file, 'r', encoding='utf-8') as csvfile:\n",
    "\n",
    "    csvreader = csv.DictReader(csvfile)\n",
    "    for row in csvreader:\n",
    "        data.append(row)\n",
    "\n",
    "# 3. 创建JSON对象\n",
    "json_data = json.dumps(data, ensure_ascii=False, indent=4)\n",
    "\n",
    "# 4. 将JSON对象写入文件\n",
    "with open(json_file, 'w', encoding='utf-8') as jsonfile:\n",
    "    jsonfile.write(json_data)\n"
   ]
  },
  {
   "cell_type": "code",
   "execution_count": null,
   "metadata": {},
   "outputs": [],
   "source": []
  },
  {
   "cell_type": "code",
   "execution_count": null,
   "metadata": {},
   "outputs": [],
   "source": []
  }
 ],
 "metadata": {
  "kernelspec": {
   "display_name": "base",
   "language": "python",
   "name": "python3"
  },
  "language_info": {
   "codemirror_mode": {
    "name": "ipython",
    "version": 3
   },
   "file_extension": ".py",
   "mimetype": "text/x-python",
   "name": "python",
   "nbconvert_exporter": "python",
   "pygments_lexer": "ipython3",
   "version": "3.9.15"
  },
  "orig_nbformat": 4
 },
 "nbformat": 4,
 "nbformat_minor": 2
}
